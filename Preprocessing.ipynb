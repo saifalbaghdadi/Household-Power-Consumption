{
 "cells": [
  {
   "cell_type": "code",
   "execution_count": 1,
   "metadata": {},
   "outputs": [],
   "source": [
    "import pandas as pd\n",
    "import numpy as np\n",
    "import matplotlib.pyplot as plt"
   ]
  },
  {
   "cell_type": "code",
   "execution_count": 2,
   "metadata": {},
   "outputs": [
    {
     "data": {
      "text/html": [
       "<div>\n",
       "<style scoped>\n",
       "    .dataframe tbody tr th:only-of-type {\n",
       "        vertical-align: middle;\n",
       "    }\n",
       "\n",
       "    .dataframe tbody tr th {\n",
       "        vertical-align: top;\n",
       "    }\n",
       "\n",
       "    .dataframe thead th {\n",
       "        text-align: right;\n",
       "    }\n",
       "</style>\n",
       "<table border=\"1\" class=\"dataframe\">\n",
       "  <thead>\n",
       "    <tr style=\"text-align: right;\">\n",
       "      <th></th>\n",
       "      <th>Date</th>\n",
       "      <th>Time</th>\n",
       "      <th>Global_active_power</th>\n",
       "      <th>Global_reactive_power</th>\n",
       "      <th>Voltage</th>\n",
       "      <th>Global_intensity</th>\n",
       "      <th>Sub_metering_1</th>\n",
       "      <th>Sub_metering_2</th>\n",
       "      <th>Sub_metering_3</th>\n",
       "    </tr>\n",
       "  </thead>\n",
       "  <tbody>\n",
       "    <tr>\n",
       "      <th>0</th>\n",
       "      <td>16/12/2006</td>\n",
       "      <td>17:24:00</td>\n",
       "      <td>4.216</td>\n",
       "      <td>0.418</td>\n",
       "      <td>234.840</td>\n",
       "      <td>18.400</td>\n",
       "      <td>0.000</td>\n",
       "      <td>1.000</td>\n",
       "      <td>17.0</td>\n",
       "    </tr>\n",
       "    <tr>\n",
       "      <th>1</th>\n",
       "      <td>16/12/2006</td>\n",
       "      <td>17:25:00</td>\n",
       "      <td>5.360</td>\n",
       "      <td>0.436</td>\n",
       "      <td>233.630</td>\n",
       "      <td>23.000</td>\n",
       "      <td>0.000</td>\n",
       "      <td>1.000</td>\n",
       "      <td>16.0</td>\n",
       "    </tr>\n",
       "    <tr>\n",
       "      <th>2</th>\n",
       "      <td>16/12/2006</td>\n",
       "      <td>17:26:00</td>\n",
       "      <td>5.374</td>\n",
       "      <td>0.498</td>\n",
       "      <td>233.290</td>\n",
       "      <td>23.000</td>\n",
       "      <td>0.000</td>\n",
       "      <td>2.000</td>\n",
       "      <td>17.0</td>\n",
       "    </tr>\n",
       "    <tr>\n",
       "      <th>3</th>\n",
       "      <td>16/12/2006</td>\n",
       "      <td>17:27:00</td>\n",
       "      <td>5.388</td>\n",
       "      <td>0.502</td>\n",
       "      <td>233.740</td>\n",
       "      <td>23.000</td>\n",
       "      <td>0.000</td>\n",
       "      <td>1.000</td>\n",
       "      <td>17.0</td>\n",
       "    </tr>\n",
       "    <tr>\n",
       "      <th>4</th>\n",
       "      <td>16/12/2006</td>\n",
       "      <td>17:28:00</td>\n",
       "      <td>3.666</td>\n",
       "      <td>0.528</td>\n",
       "      <td>235.680</td>\n",
       "      <td>15.800</td>\n",
       "      <td>0.000</td>\n",
       "      <td>1.000</td>\n",
       "      <td>17.0</td>\n",
       "    </tr>\n",
       "  </tbody>\n",
       "</table>\n",
       "</div>"
      ],
      "text/plain": [
       "         Date      Time Global_active_power Global_reactive_power  Voltage  \\\n",
       "0  16/12/2006  17:24:00               4.216                 0.418  234.840   \n",
       "1  16/12/2006  17:25:00               5.360                 0.436  233.630   \n",
       "2  16/12/2006  17:26:00               5.374                 0.498  233.290   \n",
       "3  16/12/2006  17:27:00               5.388                 0.502  233.740   \n",
       "4  16/12/2006  17:28:00               3.666                 0.528  235.680   \n",
       "\n",
       "  Global_intensity Sub_metering_1 Sub_metering_2  Sub_metering_3  \n",
       "0           18.400          0.000          1.000            17.0  \n",
       "1           23.000          0.000          1.000            16.0  \n",
       "2           23.000          0.000          2.000            17.0  \n",
       "3           23.000          0.000          1.000            17.0  \n",
       "4           15.800          0.000          1.000            17.0  "
      ]
     },
     "execution_count": 2,
     "metadata": {},
     "output_type": "execute_result"
    }
   ],
   "source": [
    "df = pd.read_csv('data/02 Household Power Consumption.txt',sep=\";\")\n",
    "df.head()"
   ]
  },
  {
   "cell_type": "code",
   "execution_count": 3,
   "metadata": {},
   "outputs": [
    {
     "name": "stdout",
     "output_type": "stream",
     "text": [
      "<class 'pandas.core.frame.DataFrame'>\n",
      "RangeIndex: 185711 entries, 0 to 185710\n",
      "Data columns (total 9 columns):\n",
      " #   Column                 Non-Null Count   Dtype  \n",
      "---  ------                 --------------   -----  \n",
      " 0   Date                   185711 non-null  object \n",
      " 1   Time                   185711 non-null  object \n",
      " 2   Global_active_power    185711 non-null  object \n",
      " 3   Global_reactive_power  185711 non-null  object \n",
      " 4   Voltage                185711 non-null  object \n",
      " 5   Global_intensity       185711 non-null  object \n",
      " 6   Sub_metering_1         185711 non-null  object \n",
      " 7   Sub_metering_2         185711 non-null  object \n",
      " 8   Sub_metering_3         185702 non-null  float64\n",
      "dtypes: float64(1), object(8)\n",
      "memory usage: 12.8+ MB\n"
     ]
    }
   ],
   "source": [
    "df.info()"
   ]
  },
  {
   "cell_type": "code",
   "execution_count": 4,
   "metadata": {},
   "outputs": [
    {
     "data": {
      "text/plain": [
       "Date                     0\n",
       "Time                     0\n",
       "Global_active_power      0\n",
       "Global_reactive_power    0\n",
       "Voltage                  0\n",
       "Global_intensity         0\n",
       "Sub_metering_1           0\n",
       "Sub_metering_2           0\n",
       "Sub_metering_3           9\n",
       "dtype: int64"
      ]
     },
     "execution_count": 4,
     "metadata": {},
     "output_type": "execute_result"
    }
   ],
   "source": [
    "df.isnull().sum()   # Count the number of null values"
   ]
  },
  {
   "cell_type": "code",
   "execution_count": 5,
   "metadata": {},
   "outputs": [
    {
     "data": {
      "text/plain": [
       "9"
      ]
     },
     "execution_count": 5,
     "metadata": {},
     "output_type": "execute_result"
    }
   ],
   "source": [
    "df.isnull().any(axis = 1).sum()"
   ]
  },
  {
   "cell_type": "code",
   "execution_count": 7,
   "metadata": {},
   "outputs": [],
   "source": [
    "# mark all missing values\n",
    "df.replace('?', np.nan, inplace=True)\n",
    "df.replace('', np.nan, inplace=True)\n",
    "df.replace(' ', np.nan, inplace=True)\n",
    "df.replace('  ', np.nan, inplace=True)\n",
    "df.replace('   ', np.nan, inplace=True)"
   ]
  },
  {
   "cell_type": "code",
   "execution_count": 8,
   "metadata": {},
   "outputs": [
    {
     "data": {
      "text/plain": [
       "Date                      0\n",
       "Time                      0\n",
       "Global_active_power      10\n",
       "Global_reactive_power     9\n",
       "Voltage                  10\n",
       "Global_intensity         11\n",
       "Sub_metering_1            9\n",
       "Sub_metering_2            9\n",
       "Sub_metering_3            9\n",
       "dtype: int64"
      ]
     },
     "execution_count": 8,
     "metadata": {},
     "output_type": "execute_result"
    }
   ],
   "source": [
    "df.isnull().sum()"
   ]
  },
  {
   "cell_type": "code",
   "execution_count": 10,
   "metadata": {},
   "outputs": [
    {
     "name": "stdout",
     "output_type": "stream",
     "text": [
      "              Date      Time Global_active_power Global_reactive_power  \\\n",
      "6       16/12/2006  17:30:00               3.702                 0.520   \n",
      "6839    21/12/2006  11:23:00                 NaN                   NaN   \n",
      "6840    21/12/2006  11:24:00                 NaN                   NaN   \n",
      "19724   30/12/2006  10:08:00                 NaN                   NaN   \n",
      "19725   30/12/2006  10:09:00                 NaN                   NaN   \n",
      "41832    14/1/2007  18:36:00                 NaN                   NaN   \n",
      "61909    28/1/2007  17:13:00                 NaN                   NaN   \n",
      "98041    22/2/2007  19:25:00               4.300                 0.222   \n",
      "98254    22/2/2007  22:58:00                 NaN                   NaN   \n",
      "98255    22/2/2007  22:59:00                 NaN                   NaN   \n",
      "131276   17/3/2007  21:20:00                 NaN                 0.114   \n",
      "142588   25/3/2007  17:52:00                 NaN                   NaN   \n",
      "185694   24/4/2007  16:18:00               0.436                 0.198   \n",
      "\n",
      "        Voltage Global_intensity Sub_metering_1 Sub_metering_2  Sub_metering_3  \n",
      "6       235.090              NaN          0.000          1.000            17.0  \n",
      "6839        NaN              NaN            NaN            NaN             NaN  \n",
      "6840        NaN              NaN            NaN            NaN             NaN  \n",
      "19724       NaN              NaN            NaN            NaN             NaN  \n",
      "19725       NaN              NaN            NaN            NaN             NaN  \n",
      "41832       NaN              NaN            NaN            NaN             NaN  \n",
      "61909       NaN              NaN            NaN            NaN             NaN  \n",
      "98041   230.390              NaN          0.000          0.000            17.0  \n",
      "98254       NaN              NaN            NaN            NaN             NaN  \n",
      "98255       NaN              NaN            NaN            NaN             NaN  \n",
      "131276  237.710           15.600          0.000          0.000            18.0  \n",
      "142588      NaN              NaN            NaN            NaN             NaN  \n",
      "185694      NaN            2.200          0.000          1.000             0.0  \n"
     ]
    }
   ],
   "source": [
    "dataset2 = df[df.isna().any(axis=1)]\n",
    "print(dataset2)"
   ]
  },
  {
   "cell_type": "code",
   "execution_count": 11,
   "metadata": {},
   "outputs": [],
   "source": [
    "# make dataset numeric\n",
    "df['Global_active_power'] = [float(x) for x in df['Global_active_power']]\n",
    "df['Global_reactive_power'] = [float(x) for x in df['Global_reactive_power']]\n",
    "df['Voltage'] = [float(x) for x in df['Voltage']]\n",
    "df['Global_intensity'] = [float(x) for x in df['Global_intensity']]\n",
    "df['Sub_metering_1'] = [float(x) for x in df['Sub_metering_1']]\n",
    "df['Sub_metering_2'] = [float(x) for x in df['Sub_metering_2']]\n",
    "df['Sub_metering_3'] = [float(x) for x in df['Sub_metering_3']]"
   ]
  },
  {
   "cell_type": "code",
   "execution_count": 12,
   "metadata": {},
   "outputs": [
    {
     "name": "stdout",
     "output_type": "stream",
     "text": [
      "<class 'pandas.core.frame.DataFrame'>\n",
      "RangeIndex: 185711 entries, 0 to 185710\n",
      "Data columns (total 9 columns):\n",
      " #   Column                 Non-Null Count   Dtype  \n",
      "---  ------                 --------------   -----  \n",
      " 0   Date                   185711 non-null  object \n",
      " 1   Time                   185711 non-null  object \n",
      " 2   Global_active_power    185701 non-null  float64\n",
      " 3   Global_reactive_power  185702 non-null  float64\n",
      " 4   Voltage                185701 non-null  float64\n",
      " 5   Global_intensity       185700 non-null  float64\n",
      " 6   Sub_metering_1         185702 non-null  float64\n",
      " 7   Sub_metering_2         185702 non-null  float64\n",
      " 8   Sub_metering_3         185702 non-null  float64\n",
      "dtypes: float64(7), object(2)\n",
      "memory usage: 12.8+ MB\n"
     ]
    }
   ],
   "source": [
    "df.info()"
   ]
  },
  {
   "cell_type": "code",
   "execution_count": 13,
   "metadata": {},
   "outputs": [
    {
     "data": {
      "text/html": [
       "<div>\n",
       "<style scoped>\n",
       "    .dataframe tbody tr th:only-of-type {\n",
       "        vertical-align: middle;\n",
       "    }\n",
       "\n",
       "    .dataframe tbody tr th {\n",
       "        vertical-align: top;\n",
       "    }\n",
       "\n",
       "    .dataframe thead th {\n",
       "        text-align: right;\n",
       "    }\n",
       "</style>\n",
       "<table border=\"1\" class=\"dataframe\">\n",
       "  <thead>\n",
       "    <tr style=\"text-align: right;\">\n",
       "      <th></th>\n",
       "      <th>Global_active_power</th>\n",
       "      <th>Global_reactive_power</th>\n",
       "      <th>Voltage</th>\n",
       "      <th>Global_intensity</th>\n",
       "      <th>Sub_metering_1</th>\n",
       "      <th>Sub_metering_2</th>\n",
       "      <th>Sub_metering_3</th>\n",
       "    </tr>\n",
       "  </thead>\n",
       "  <tbody>\n",
       "    <tr>\n",
       "      <th>count</th>\n",
       "      <td>185701.000000</td>\n",
       "      <td>185702.000000</td>\n",
       "      <td>185701.000000</td>\n",
       "      <td>185700.000000</td>\n",
       "      <td>185702.000000</td>\n",
       "      <td>185702.000000</td>\n",
       "      <td>185702.000000</td>\n",
       "    </tr>\n",
       "    <tr>\n",
       "      <th>mean</th>\n",
       "      <td>1.382547</td>\n",
       "      <td>0.121663</td>\n",
       "      <td>240.641969</td>\n",
       "      <td>5.852523</td>\n",
       "      <td>1.232561</td>\n",
       "      <td>1.783675</td>\n",
       "      <td>6.553521</td>\n",
       "    </tr>\n",
       "    <tr>\n",
       "      <th>std</th>\n",
       "      <td>1.293269</td>\n",
       "      <td>0.112606</td>\n",
       "      <td>3.168499</td>\n",
       "      <td>5.456051</td>\n",
       "      <td>6.498750</td>\n",
       "      <td>7.163004</td>\n",
       "      <td>8.469009</td>\n",
       "    </tr>\n",
       "    <tr>\n",
       "      <th>min</th>\n",
       "      <td>0.104000</td>\n",
       "      <td>0.000000</td>\n",
       "      <td>223.490000</td>\n",
       "      <td>0.600000</td>\n",
       "      <td>0.000000</td>\n",
       "      <td>0.000000</td>\n",
       "      <td>0.000000</td>\n",
       "    </tr>\n",
       "    <tr>\n",
       "      <th>25%</th>\n",
       "      <td>0.318000</td>\n",
       "      <td>0.000000</td>\n",
       "      <td>238.700000</td>\n",
       "      <td>1.400000</td>\n",
       "      <td>0.000000</td>\n",
       "      <td>0.000000</td>\n",
       "      <td>0.000000</td>\n",
       "    </tr>\n",
       "    <tr>\n",
       "      <th>50%</th>\n",
       "      <td>1.218000</td>\n",
       "      <td>0.106000</td>\n",
       "      <td>240.820000</td>\n",
       "      <td>5.200000</td>\n",
       "      <td>0.000000</td>\n",
       "      <td>0.000000</td>\n",
       "      <td>0.000000</td>\n",
       "    </tr>\n",
       "    <tr>\n",
       "      <th>75%</th>\n",
       "      <td>2.062000</td>\n",
       "      <td>0.190000</td>\n",
       "      <td>242.770000</td>\n",
       "      <td>8.600000</td>\n",
       "      <td>0.000000</td>\n",
       "      <td>1.000000</td>\n",
       "      <td>17.000000</td>\n",
       "    </tr>\n",
       "    <tr>\n",
       "      <th>max</th>\n",
       "      <td>10.670000</td>\n",
       "      <td>0.874000</td>\n",
       "      <td>251.700000</td>\n",
       "      <td>46.400000</td>\n",
       "      <td>77.000000</td>\n",
       "      <td>78.000000</td>\n",
       "      <td>20.000000</td>\n",
       "    </tr>\n",
       "  </tbody>\n",
       "</table>\n",
       "</div>"
      ],
      "text/plain": [
       "       Global_active_power  Global_reactive_power        Voltage  \\\n",
       "count        185701.000000          185702.000000  185701.000000   \n",
       "mean              1.382547               0.121663     240.641969   \n",
       "std               1.293269               0.112606       3.168499   \n",
       "min               0.104000               0.000000     223.490000   \n",
       "25%               0.318000               0.000000     238.700000   \n",
       "50%               1.218000               0.106000     240.820000   \n",
       "75%               2.062000               0.190000     242.770000   \n",
       "max              10.670000               0.874000     251.700000   \n",
       "\n",
       "       Global_intensity  Sub_metering_1  Sub_metering_2  Sub_metering_3  \n",
       "count     185700.000000   185702.000000   185702.000000   185702.000000  \n",
       "mean           5.852523        1.232561        1.783675        6.553521  \n",
       "std            5.456051        6.498750        7.163004        8.469009  \n",
       "min            0.600000        0.000000        0.000000        0.000000  \n",
       "25%            1.400000        0.000000        0.000000        0.000000  \n",
       "50%            5.200000        0.000000        0.000000        0.000000  \n",
       "75%            8.600000        0.000000        1.000000       17.000000  \n",
       "max           46.400000       77.000000       78.000000       20.000000  "
      ]
     },
     "execution_count": 13,
     "metadata": {},
     "output_type": "execute_result"
    }
   ],
   "source": [
    "df.describe()"
   ]
  },
  {
   "cell_type": "code",
   "execution_count": 14,
   "metadata": {},
   "outputs": [
    {
     "data": {
      "text/plain": [
       "count        185711\n",
       "unique          131\n",
       "top       18/2/2007\n",
       "freq           1440\n",
       "Name: Date, dtype: object"
      ]
     },
     "execution_count": 14,
     "metadata": {},
     "output_type": "execute_result"
    }
   ],
   "source": [
    "df['Date'].describe()"
   ]
  },
  {
   "cell_type": "code",
   "execution_count": 15,
   "metadata": {},
   "outputs": [
    {
     "data": {
      "text/plain": [
       "18/2/2007     1440\n",
       "22/4/2007     1440\n",
       "19/3/2007     1440\n",
       "18/3/2007     1440\n",
       "17/3/2007     1440\n",
       "              ... \n",
       "21/4/2007     1440\n",
       "20/1/2007     1439\n",
       "24/4/2007      995\n",
       "16/12/2006     396\n",
       "8                1\n",
       "Name: Date, Length: 131, dtype: int64"
      ]
     },
     "execution_count": 15,
     "metadata": {},
     "output_type": "execute_result"
    }
   ],
   "source": [
    "df['Date'].value_counts()"
   ]
  },
  {
   "cell_type": "code",
   "execution_count": 16,
   "metadata": {},
   "outputs": [
    {
     "data": {
      "text/plain": [
       "count       185711\n",
       "unique        1440\n",
       "top       17:24:00\n",
       "freq           129\n",
       "Name: Time, dtype: object"
      ]
     },
     "execution_count": 16,
     "metadata": {},
     "output_type": "execute_result"
    }
   ],
   "source": [
    "df['Time'].describe()"
   ]
  },
  {
   "cell_type": "code",
   "execution_count": 18,
   "metadata": {},
   "outputs": [
    {
     "data": {
      "text/plain": [
       "17:24:00    129\n",
       "08:49:00    129\n",
       "08:57:00    129\n",
       "08:56:00    129\n",
       "08:55:00    129\n",
       "           ... \n",
       "16:53:00    128\n",
       "16:54:00    128\n",
       "16:55:00    128\n",
       "16:56:00    128\n",
       "17:23:00    128\n",
       "Name: Time, Length: 1440, dtype: int64"
      ]
     },
     "execution_count": 18,
     "metadata": {},
     "output_type": "execute_result"
    }
   ],
   "source": [
    "df['Time'].value_counts()"
   ]
  },
  {
   "cell_type": "code",
   "execution_count": 20,
   "metadata": {},
   "outputs": [
    {
     "data": {
      "text/html": [
       "<style type=\"text/css\">\n",
       "#T_30b22_row0_col0, #T_30b22_row0_col3, #T_30b22_row1_col1, #T_30b22_row2_col2, #T_30b22_row3_col0, #T_30b22_row3_col3, #T_30b22_row4_col4, #T_30b22_row5_col5, #T_30b22_row6_col6 {\n",
       "  background-color: #b40426;\n",
       "  color: #f1f1f1;\n",
       "}\n",
       "#T_30b22_row0_col1 {\n",
       "  background-color: #b9d0f9;\n",
       "  color: #000000;\n",
       "}\n",
       "#T_30b22_row0_col2 {\n",
       "  background-color: #3c4ec2;\n",
       "  color: #f1f1f1;\n",
       "}\n",
       "#T_30b22_row0_col4 {\n",
       "  background-color: #e8d6cc;\n",
       "  color: #000000;\n",
       "}\n",
       "#T_30b22_row0_col5 {\n",
       "  background-color: #ead4c8;\n",
       "  color: #000000;\n",
       "}\n",
       "#T_30b22_row0_col6 {\n",
       "  background-color: #f7ac8e;\n",
       "  color: #000000;\n",
       "}\n",
       "#T_30b22_row1_col0 {\n",
       "  background-color: #e7d7ce;\n",
       "  color: #000000;\n",
       "}\n",
       "#T_30b22_row1_col2 {\n",
       "  background-color: #93b5fe;\n",
       "  color: #000000;\n",
       "}\n",
       "#T_30b22_row1_col3 {\n",
       "  background-color: #ead5c9;\n",
       "  color: #000000;\n",
       "}\n",
       "#T_30b22_row1_col4 {\n",
       "  background-color: #9fbfff;\n",
       "  color: #000000;\n",
       "}\n",
       "#T_30b22_row1_col5 {\n",
       "  background-color: #aac7fd;\n",
       "  color: #000000;\n",
       "}\n",
       "#T_30b22_row1_col6 {\n",
       "  background-color: #b1cbfc;\n",
       "  color: #000000;\n",
       "}\n",
       "#T_30b22_row2_col0, #T_30b22_row2_col1, #T_30b22_row2_col3, #T_30b22_row2_col4, #T_30b22_row2_col5, #T_30b22_row2_col6, #T_30b22_row3_col2 {\n",
       "  background-color: #3b4cc0;\n",
       "  color: #f1f1f1;\n",
       "}\n",
       "#T_30b22_row3_col1 {\n",
       "  background-color: #bbd1f8;\n",
       "  color: #000000;\n",
       "}\n",
       "#T_30b22_row3_col4 {\n",
       "  background-color: #e9d5cb;\n",
       "  color: #000000;\n",
       "}\n",
       "#T_30b22_row3_col5 {\n",
       "  background-color: #ebd3c6;\n",
       "  color: #000000;\n",
       "}\n",
       "#T_30b22_row3_col6 {\n",
       "  background-color: #f7af91;\n",
       "  color: #000000;\n",
       "}\n",
       "#T_30b22_row4_col0 {\n",
       "  background-color: #f5c0a7;\n",
       "  color: #000000;\n",
       "}\n",
       "#T_30b22_row4_col1, #T_30b22_row5_col4 {\n",
       "  background-color: #8db0fe;\n",
       "  color: #000000;\n",
       "}\n",
       "#T_30b22_row4_col2 {\n",
       "  background-color: #80a3fa;\n",
       "  color: #f1f1f1;\n",
       "}\n",
       "#T_30b22_row4_col3 {\n",
       "  background-color: #f6bfa6;\n",
       "  color: #000000;\n",
       "}\n",
       "#T_30b22_row4_col5 {\n",
       "  background-color: #8badfd;\n",
       "  color: #000000;\n",
       "}\n",
       "#T_30b22_row4_col6, #T_30b22_row5_col6 {\n",
       "  background-color: #b5cdfa;\n",
       "  color: #000000;\n",
       "}\n",
       "#T_30b22_row5_col0 {\n",
       "  background-color: #f7bca1;\n",
       "  color: #000000;\n",
       "}\n",
       "#T_30b22_row5_col1 {\n",
       "  background-color: #9bbcff;\n",
       "  color: #000000;\n",
       "}\n",
       "#T_30b22_row5_col2, #T_30b22_row6_col1 {\n",
       "  background-color: #84a7fc;\n",
       "  color: #f1f1f1;\n",
       "}\n",
       "#T_30b22_row5_col3 {\n",
       "  background-color: #f7ba9f;\n",
       "  color: #000000;\n",
       "}\n",
       "#T_30b22_row6_col0 {\n",
       "  background-color: #f59f80;\n",
       "  color: #000000;\n",
       "}\n",
       "#T_30b22_row6_col2 {\n",
       "  background-color: #6180e9;\n",
       "  color: #f1f1f1;\n",
       "}\n",
       "#T_30b22_row6_col3 {\n",
       "  background-color: #f5a081;\n",
       "  color: #000000;\n",
       "}\n",
       "#T_30b22_row6_col4 {\n",
       "  background-color: #9dbdff;\n",
       "  color: #000000;\n",
       "}\n",
       "#T_30b22_row6_col5 {\n",
       "  background-color: #98b9ff;\n",
       "  color: #000000;\n",
       "}\n",
       "</style>\n",
       "<table id=\"T_30b22_\">\n",
       "  <thead>\n",
       "    <tr>\n",
       "      <th class=\"blank level0\" >&nbsp;</th>\n",
       "      <th class=\"col_heading level0 col0\" >Global_active_power</th>\n",
       "      <th class=\"col_heading level0 col1\" >Global_reactive_power</th>\n",
       "      <th class=\"col_heading level0 col2\" >Voltage</th>\n",
       "      <th class=\"col_heading level0 col3\" >Global_intensity</th>\n",
       "      <th class=\"col_heading level0 col4\" >Sub_metering_1</th>\n",
       "      <th class=\"col_heading level0 col5\" >Sub_metering_2</th>\n",
       "      <th class=\"col_heading level0 col6\" >Sub_metering_3</th>\n",
       "    </tr>\n",
       "  </thead>\n",
       "  <tbody>\n",
       "    <tr>\n",
       "      <th id=\"T_30b22_level0_row0\" class=\"row_heading level0 row0\" >Global_active_power</th>\n",
       "      <td id=\"T_30b22_row0_col0\" class=\"data row0 col0\" >1.0</td>\n",
       "      <td id=\"T_30b22_row0_col1\" class=\"data row0 col1\" >0.28</td>\n",
       "      <td id=\"T_30b22_row0_col2\" class=\"data row0 col2\" >-0.57</td>\n",
       "      <td id=\"T_30b22_row0_col3\" class=\"data row0 col3\" >1.0</td>\n",
       "      <td id=\"T_30b22_row0_col4\" class=\"data row0 col4\" >0.43</td>\n",
       "      <td id=\"T_30b22_row0_col5\" class=\"data row0 col5\" >0.46</td>\n",
       "      <td id=\"T_30b22_row0_col6\" class=\"data row0 col6\" >0.58</td>\n",
       "    </tr>\n",
       "    <tr>\n",
       "      <th id=\"T_30b22_level0_row1\" class=\"row_heading level0 row1\" >Global_reactive_power</th>\n",
       "      <td id=\"T_30b22_row1_col0\" class=\"data row1 col0\" >0.28</td>\n",
       "      <td id=\"T_30b22_row1_col1\" class=\"data row1 col1\" >1.0</td>\n",
       "      <td id=\"T_30b22_row1_col2\" class=\"data row1 col2\" >-0.16</td>\n",
       "      <td id=\"T_30b22_row1_col3\" class=\"data row1 col3\" >0.29</td>\n",
       "      <td id=\"T_30b22_row1_col4\" class=\"data row1 col4\" >0.13</td>\n",
       "      <td id=\"T_30b22_row1_col5\" class=\"data row1 col5\" >0.18</td>\n",
       "      <td id=\"T_30b22_row1_col6\" class=\"data row1 col6\" >0.1</td>\n",
       "    </tr>\n",
       "    <tr>\n",
       "      <th id=\"T_30b22_level0_row2\" class=\"row_heading level0 row2\" >Voltage</th>\n",
       "      <td id=\"T_30b22_row2_col0\" class=\"data row2 col0\" >-0.57</td>\n",
       "      <td id=\"T_30b22_row2_col1\" class=\"data row2 col1\" >-0.16</td>\n",
       "      <td id=\"T_30b22_row2_col2\" class=\"data row2 col2\" >1.0</td>\n",
       "      <td id=\"T_30b22_row2_col3\" class=\"data row2 col3\" >-0.58</td>\n",
       "      <td id=\"T_30b22_row2_col4\" class=\"data row2 col4\" >-0.24</td>\n",
       "      <td id=\"T_30b22_row2_col5\" class=\"data row2 col5\" >-0.23</td>\n",
       "      <td id=\"T_30b22_row2_col6\" class=\"data row2 col6\" >-0.39</td>\n",
       "    </tr>\n",
       "    <tr>\n",
       "      <th id=\"T_30b22_level0_row3\" class=\"row_heading level0 row3\" >Global_intensity</th>\n",
       "      <td id=\"T_30b22_row3_col0\" class=\"data row3 col0\" >1.0</td>\n",
       "      <td id=\"T_30b22_row3_col1\" class=\"data row3 col1\" >0.29</td>\n",
       "      <td id=\"T_30b22_row3_col2\" class=\"data row3 col2\" >-0.58</td>\n",
       "      <td id=\"T_30b22_row3_col3\" class=\"data row3 col3\" >1.0</td>\n",
       "      <td id=\"T_30b22_row3_col4\" class=\"data row3 col4\" >0.44</td>\n",
       "      <td id=\"T_30b22_row3_col5\" class=\"data row3 col5\" >0.46</td>\n",
       "      <td id=\"T_30b22_row3_col6\" class=\"data row3 col6\" >0.58</td>\n",
       "    </tr>\n",
       "    <tr>\n",
       "      <th id=\"T_30b22_level0_row4\" class=\"row_heading level0 row4\" >Sub_metering_1</th>\n",
       "      <td id=\"T_30b22_row4_col0\" class=\"data row4 col0\" >0.43</td>\n",
       "      <td id=\"T_30b22_row4_col1\" class=\"data row4 col1\" >0.13</td>\n",
       "      <td id=\"T_30b22_row4_col2\" class=\"data row4 col2\" >-0.24</td>\n",
       "      <td id=\"T_30b22_row4_col3\" class=\"data row4 col3\" >0.44</td>\n",
       "      <td id=\"T_30b22_row4_col4\" class=\"data row4 col4\" >1.0</td>\n",
       "      <td id=\"T_30b22_row4_col5\" class=\"data row4 col5\" >0.07</td>\n",
       "      <td id=\"T_30b22_row4_col6\" class=\"data row4 col6\" >0.12</td>\n",
       "    </tr>\n",
       "    <tr>\n",
       "      <th id=\"T_30b22_level0_row5\" class=\"row_heading level0 row5\" >Sub_metering_2</th>\n",
       "      <td id=\"T_30b22_row5_col0\" class=\"data row5 col0\" >0.46</td>\n",
       "      <td id=\"T_30b22_row5_col1\" class=\"data row5 col1\" >0.18</td>\n",
       "      <td id=\"T_30b22_row5_col2\" class=\"data row5 col2\" >-0.23</td>\n",
       "      <td id=\"T_30b22_row5_col3\" class=\"data row5 col3\" >0.46</td>\n",
       "      <td id=\"T_30b22_row5_col4\" class=\"data row5 col4\" >0.07</td>\n",
       "      <td id=\"T_30b22_row5_col5\" class=\"data row5 col5\" >1.0</td>\n",
       "      <td id=\"T_30b22_row5_col6\" class=\"data row5 col6\" >0.12</td>\n",
       "    </tr>\n",
       "    <tr>\n",
       "      <th id=\"T_30b22_level0_row6\" class=\"row_heading level0 row6\" >Sub_metering_3</th>\n",
       "      <td id=\"T_30b22_row6_col0\" class=\"data row6 col0\" >0.58</td>\n",
       "      <td id=\"T_30b22_row6_col1\" class=\"data row6 col1\" >0.1</td>\n",
       "      <td id=\"T_30b22_row6_col2\" class=\"data row6 col2\" >-0.39</td>\n",
       "      <td id=\"T_30b22_row6_col3\" class=\"data row6 col3\" >0.58</td>\n",
       "      <td id=\"T_30b22_row6_col4\" class=\"data row6 col4\" >0.12</td>\n",
       "      <td id=\"T_30b22_row6_col5\" class=\"data row6 col5\" >0.12</td>\n",
       "      <td id=\"T_30b22_row6_col6\" class=\"data row6 col6\" >1.0</td>\n",
       "    </tr>\n",
       "  </tbody>\n",
       "</table>\n"
      ],
      "text/plain": [
       "<pandas.io.formats.style.Styler at 0x1ec28d583d0>"
      ]
     },
     "execution_count": 20,
     "metadata": {},
     "output_type": "execute_result"
    }
   ],
   "source": [
    "df.corr().style.format(\"{:.2}\").background_gradient(cmap=plt.get_cmap('coolwarm'))"
   ]
  },
  {
   "cell_type": "code",
   "execution_count": null,
   "metadata": {},
   "outputs": [],
   "source": []
  }
 ],
 "metadata": {
  "kernelspec": {
   "display_name": "Python 3.9.7 ('base')",
   "language": "python",
   "name": "python3"
  },
  "language_info": {
   "codemirror_mode": {
    "name": "ipython",
    "version": 3
   },
   "file_extension": ".py",
   "mimetype": "text/x-python",
   "name": "python",
   "nbconvert_exporter": "python",
   "pygments_lexer": "ipython3",
   "version": "3.9.7"
  },
  "orig_nbformat": 4,
  "vscode": {
   "interpreter": {
    "hash": "913be1974ed3f4c905d3177413e0cff137484c4daa3de5265fa2f2a2c26b1ad8"
   }
  }
 },
 "nbformat": 4,
 "nbformat_minor": 2
}
